{
 "cells": [
  {
   "cell_type": "code",
   "execution_count": 8,
   "id": "ae148a72-175c-4d22-88a5-cbb1b07c6413",
   "metadata": {},
   "outputs": [],
   "source": [
    "import pyarrow.parquet as pq\n",
    "import networkx as nx\n",
    "import pandas as pd\n",
    "import numpy as np\n",
    "import matplotlib.pyplot as plt"
   ]
  },
  {
   "cell_type": "code",
   "execution_count": 33,
   "id": "8f2fe172-b2a6-4551-b2d4-e713e0ab2d60",
   "metadata": {},
   "outputs": [
    {
     "name": "stdout",
     "output_type": "stream",
     "text": [
      "Doing startup junk\n"
     ]
    },
    {
     "data": {
      "text/html": [
       "<div>\n",
       "<style scoped>\n",
       "    .dataframe tbody tr th:only-of-type {\n",
       "        vertical-align: middle;\n",
       "    }\n",
       "\n",
       "    .dataframe tbody tr th {\n",
       "        vertical-align: top;\n",
       "    }\n",
       "\n",
       "    .dataframe thead th {\n",
       "        text-align: right;\n",
       "    }\n",
       "</style>\n",
       "<table border=\"1\" class=\"dataframe\">\n",
       "  <thead>\n",
       "    <tr style=\"text-align: right;\">\n",
       "      <th></th>\n",
       "      <th>index</th>\n",
       "      <th></th>\n",
       "      <th>birth date</th>\n",
       "      <th>country</th>\n",
       "      <th>port of entry</th>\n",
       "      <th>date of entry</th>\n",
       "      <th>name</th>\n",
       "      <th>naid</th>\n",
       "      <th>id</th>\n",
       "      <th>naturalization date</th>\n",
       "      <th>naturalization location</th>\n",
       "      <th>alias</th>\n",
       "      <th>father</th>\n",
       "      <th>mother</th>\n",
       "      <th>father's name</th>\n",
       "      <th>mother's name</th>\n",
       "      <th>sex</th>\n",
       "      <th>anum</th>\n",
       "      <th>birth_date</th>\n",
       "    </tr>\n",
       "  </thead>\n",
       "  <tbody>\n",
       "    <tr>\n",
       "      <th>0</th>\n",
       "      <td>18206</td>\n",
       "      <td>18206</td>\n",
       "      <td>11/25/1896</td>\n",
       "      <td>Italy</td>\n",
       "      <td>New York, New York</td>\n",
       "      <td>1913-04-01</td>\n",
       "      <td>Angela Laferla</td>\n",
       "      <td>5174315</td>\n",
       "      <td>A172298/085-09-4368/Box 78</td>\n",
       "      <td>NaT</td>\n",
       "      <td></td>\n",
       "      <td>Angela Sampugnaro</td>\n",
       "      <td></td>\n",
       "      <td></td>\n",
       "      <td></td>\n",
       "      <td></td>\n",
       "      <td></td>\n",
       "      <td>172298</td>\n",
       "      <td>1896-11-25</td>\n",
       "    </tr>\n",
       "    <tr>\n",
       "      <th>1</th>\n",
       "      <td>338319</td>\n",
       "      <td>338319</td>\n",
       "      <td>09/23/1902</td>\n",
       "      <td></td>\n",
       "      <td></td>\n",
       "      <td>NaT</td>\n",
       "      <td>Rose Gilroy</td>\n",
       "      <td>5174316</td>\n",
       "      <td>A364376/085-07-0846/Box 183</td>\n",
       "      <td>NaT</td>\n",
       "      <td></td>\n",
       "      <td>Rose Romano</td>\n",
       "      <td></td>\n",
       "      <td></td>\n",
       "      <td></td>\n",
       "      <td></td>\n",
       "      <td></td>\n",
       "      <td>364376</td>\n",
       "      <td>1902-09-23</td>\n",
       "    </tr>\n",
       "    <tr>\n",
       "      <th>2</th>\n",
       "      <td>548396</td>\n",
       "      <td>548396</td>\n",
       "      <td>08/16/1900</td>\n",
       "      <td></td>\n",
       "      <td></td>\n",
       "      <td>NaT</td>\n",
       "      <td>Ronald Carter</td>\n",
       "      <td>5174317</td>\n",
       "      <td>A365047/085-07-0846/Box 25</td>\n",
       "      <td>NaT</td>\n",
       "      <td></td>\n",
       "      <td></td>\n",
       "      <td></td>\n",
       "      <td></td>\n",
       "      <td></td>\n",
       "      <td></td>\n",
       "      <td></td>\n",
       "      <td>365047</td>\n",
       "      <td>1900-08-16</td>\n",
       "    </tr>\n",
       "    <tr>\n",
       "      <th>3</th>\n",
       "      <td>78169</td>\n",
       "      <td>78169</td>\n",
       "      <td>12/18/1896</td>\n",
       "      <td>Germany</td>\n",
       "      <td>WASHINGTON DC</td>\n",
       "      <td>1954-07-07</td>\n",
       "      <td>Oscar Dietz</td>\n",
       "      <td>40039441</td>\n",
       "      <td>A366961/566-016-0023/951</td>\n",
       "      <td>NaT</td>\n",
       "      <td></td>\n",
       "      <td></td>\n",
       "      <td>Unknown</td>\n",
       "      <td>Unknown</td>\n",
       "      <td></td>\n",
       "      <td></td>\n",
       "      <td></td>\n",
       "      <td>366961</td>\n",
       "      <td>1896-12-18</td>\n",
       "    </tr>\n",
       "    <tr>\n",
       "      <th>4</th>\n",
       "      <td>440738</td>\n",
       "      <td>440738</td>\n",
       "      <td>06/09/1906</td>\n",
       "      <td></td>\n",
       "      <td></td>\n",
       "      <td>NaT</td>\n",
       "      <td>Kosti Lentonen</td>\n",
       "      <td>5174318</td>\n",
       "      <td>A367233/085-07-0633/Box 79</td>\n",
       "      <td>NaT</td>\n",
       "      <td></td>\n",
       "      <td></td>\n",
       "      <td></td>\n",
       "      <td></td>\n",
       "      <td></td>\n",
       "      <td></td>\n",
       "      <td></td>\n",
       "      <td>367233</td>\n",
       "      <td>1906-06-09</td>\n",
       "    </tr>\n",
       "  </tbody>\n",
       "</table>\n",
       "</div>"
      ],
      "text/plain": [
       "    index          birth date  country       port of entry date of entry  \\\n",
       "0   18206   18206  11/25/1896    Italy  New York, New York    1913-04-01   \n",
       "1  338319  338319  09/23/1902                                        NaT   \n",
       "2  548396  548396  08/16/1900                                        NaT   \n",
       "3   78169   78169  12/18/1896  Germany       WASHINGTON DC    1954-07-07   \n",
       "4  440738  440738  06/09/1906                                        NaT   \n",
       "\n",
       "             name      naid                           id naturalization date  \\\n",
       "0  Angela Laferla   5174315   A172298/085-09-4368/Box 78                 NaT   \n",
       "1     Rose Gilroy   5174316  A364376/085-07-0846/Box 183                 NaT   \n",
       "2   Ronald Carter   5174317   A365047/085-07-0846/Box 25                 NaT   \n",
       "3     Oscar Dietz  40039441     A366961/566-016-0023/951                 NaT   \n",
       "4  Kosti Lentonen   5174318   A367233/085-07-0633/Box 79                 NaT   \n",
       "\n",
       "  naturalization location              alias   father   mother father's name  \\\n",
       "0                          Angela Sampugnaro                                   \n",
       "1                                Rose Romano                                   \n",
       "2                                                                              \n",
       "3                                             Unknown  Unknown                 \n",
       "4                                                                              \n",
       "\n",
       "  mother's name sex    anum birth_date  \n",
       "0                    172298 1896-11-25  \n",
       "1                    364376 1902-09-23  \n",
       "2                    365047 1900-08-16  \n",
       "3                    366961 1896-12-18  \n",
       "4                    367233 1906-06-09  "
      ]
     },
     "execution_count": 33,
     "metadata": {},
     "output_type": "execute_result"
    }
   ],
   "source": [
    "print('Doing startup junk')\n",
    "df: pd.DataFrame = pq.read_table('fuller_data.parquet').to_pandas()\n",
    "df.sort_values(by='anum', inplace=True)\n",
    "df = df[df['anum'] > 0]\n",
    "ndf = df.to_numpy()\n",
    "df.reset_index(inplace=True)\n",
    "df.head()"
   ]
  },
  {
   "cell_type": "code",
   "execution_count": 38,
   "id": "79c91d22-e49f-4d5b-9dd8-5dc6ffccbd9d",
   "metadata": {},
   "outputs": [
    {
     "data": {
      "text/plain": [
       "(array([      0,       1,       2, ..., 1185929, 1185930, 1185931]),\n",
       " array([   172298,    364376,    365047, ..., 212387357, 300312559,\n",
       "        300317508]))"
      ]
     },
     "execution_count": 38,
     "metadata": {},
     "output_type": "execute_result"
    }
   ],
   "source": [
    "anums = df['anum']\n",
    "x = np.arange(len(anums))\n",
    "y = anums.to_numpy()\n",
    "\n",
    "x, y"
   ]
  },
  {
   "cell_type": "code",
   "execution_count": 39,
   "id": "920be248-c7fb-4334-a1dd-86591cfd4863",
   "metadata": {},
   "outputs": [
    {
     "data": {
      "image/png": "[encoded data removed]",
      "text/plain": [
       "<Figure size 432x288 with 1 Axes>"
      ]
     },
     "metadata": {
      "needs_background": "light"
     },
     "output_type": "display_data"
    }
   ],
   "source": [
    "fig, ax = plt.subplots()\n",
    "ax.plot(x, y)\n",
    "plt.show()"
   ]
  },
  {
   "cell_type": "code",
   "execution_count": 4,
   "id": "2237a207-5691-4b5c-9493-269bab5e5834",
   "metadata": {},
   "outputs": [],
   "source": [
    "# Creating Graph\n",
    "G = nx.DiGraph()\n",
    "\n",
    "_last_anum = 0\n",
    "for index, row in enumerate(ndf):\n",
    "    country, poe, anum = row[2], row[3], row[16]\n",
    "    if not isinstance(anum, int) or anum < 0:\n",
    "        continue\n",
    "    G.add_edge(_last_anum, anum, weight=0.1)\n",
    "    if poe != '':\n",
    "        G.add_edge(anum, poe, weight=1)\n",
    "    _last_anum = anum\n",
    "    \n",
    "    if index == 10:\n",
    "        break"
   ]
  },
  {
   "cell_type": "code",
   "execution_count": 5,
   "id": "531e9047-df04-4361-9265-88f75090097c",
   "metadata": {},
   "outputs": [
    {
     "data": {
      "image/png": "[encoded data removed]",
      "text/plain": [
       "<Figure size 432x288 with 1 Axes>"
      ]
     },
     "metadata": {},
     "output_type": "display_data"
    }
   ],
   "source": [
    "nx.draw_spectral(G, node_color='r', edge_color='b')"
   ]
  },
  {
   "cell_type": "code",
   "execution_count": 6,
   "id": "c9762650-1a9a-45e7-9ecc-70d35baaad45",
   "metadata": {},
   "outputs": [
    {
     "name": "stdout",
     "output_type": "stream",
     "text": [
      "[{0, 172298, 366961, 365047, 364376, 'New York, New York', 'WASHINGTON DC'}, {367264, 367233, 564226, 900195, 898379, 'Unknown', 'NEW YORK, NY (IA)'}]\n"
     ]
    }
   ],
   "source": [
    "from networkx.algorithms import community\n",
    "\n",
    "communities_generator = community.girvan_newman(G)\n",
    "print(list(filter(lambda x: len(x) >= 5, next(communities_generator))))"
   ]
  }
 ],
 "metadata": {
  "kernelspec": {
   "display_name": "Python 3 (ipykernel)",
   "language": "python",
   "name": "python3"
  },
  "language_info": {
   "codemirror_mode": {
    "name": "ipython",
    "version": 3
   },
   "file_extension": ".py",
   "mimetype": "text/x-python",
   "name": "python",
   "nbconvert_exporter": "python",
   "pygments_lexer": "ipython3",
   "version": "3.9.6"
  }
 },
 "nbformat": 4,
 "nbformat_minor": 5
}
