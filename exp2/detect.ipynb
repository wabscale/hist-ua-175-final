{
 "cells": [
  {
   "cell_type": "code",
   "execution_count": 1,
   "id": "ae148a72-175c-4d22-88a5-cbb1b07c6413",
   "metadata": {},
   "outputs": [],
   "source": [
    "import pyarrow.parquet as pq\n",
    "import networkx as nx\n",
    "import pandas as pd\n",
    "import numpy as np"
   ]
  },
  {
   "cell_type": "code",
   "execution_count": 2,
   "id": "8f2fe172-b2a6-4551-b2d4-e713e0ab2d60",
   "metadata": {},
   "outputs": [
    {
     "name": "stdout",
     "output_type": "stream",
     "text": [
      "Doing startup junk\n"
     ]
    }
   ],
   "source": [
    "print('Doing startup junk')\n",
    "df: pd.DataFrame = pq.read_table('fuller_data.parquet').to_pandas()\n",
    "df.sort_values(by='anum', inplace=True)\n",
    "ndf = df.to_numpy()"
   ]
  },
  {
   "cell_type": "code",
   "execution_count": 39,
   "id": "2237a207-5691-4b5c-9493-269bab5e5834",
   "metadata": {},
   "outputs": [],
   "source": [
    "# Creating Graph\n",
    "G = nx.DiGraph()\n",
    "\n",
    "_last_anum = 0\n",
    "for index, row in enumerate(ndf):\n",
    "    country, poe, anum = row[2], row[3], row[16]\n",
    "    if not isinstance(anum, int) or anum < 0:\n",
    "        continue\n",
    "    G.add_edge(_last_anum, anum, weight=0.1)\n",
    "    if poe != '':\n",
    "        G.add_edge(anum, poe, weight=1)\n",
    "    _last_anum = anum\n",
    "    \n",
    "    if index == 10:\n",
    "        break"
   ]
  },
  {
   "cell_type": "code",
   "execution_count": 40,
   "id": "531e9047-df04-4361-9265-88f75090097c",
   "metadata": {},
   "outputs": [
    {
     "data": {
      "image/png": "[encoded data removed]",
      "text/plain": [
       "<Figure size 432x288 with 1 Axes>"
      ]
     },
     "metadata": {},
     "output_type": "display_data"
    }
   ],
   "source": [
    "nx.draw_spectral(G, node_color='r', edge_color='b')"
   ]
  },
  {
   "cell_type": "code",
   "execution_count": 41,
   "id": "c9762650-1a9a-45e7-9ecc-70d35baaad45",
   "metadata": {},
   "outputs": [
    {
     "name": "stdout",
     "output_type": "stream",
     "text": [
      "[{0, 'New York, New York', 172298, 366961, 'WASHINGTON DC', 365047, 364376}, {367264, 367233, 564226, 900195, 'NEW YORK, NY (IA)', 898379, 'Unknown'}]\n"
     ]
    }
   ],
   "source": [
    "from networkx.algorithms import community\n",
    "\n",
    "communities_generator = community.girvan_newman(G)\n",
    "print(list(filter(lambda x: len(x) >= 5, next(communities_generator))))"
   ]
  }
 ],
 "metadata": {
  "kernelspec": {
   "display_name": "Python 3 (ipykernel)",
   "language": "python",
   "name": "python3"
  },
  "language_info": {
   "codemirror_mode": {
    "name": "ipython",
    "version": 3
   },
   "file_extension": ".py",
   "mimetype": "text/x-python",
   "name": "python",
   "nbconvert_exporter": "python",
   "pygments_lexer": "ipython3",
   "version": "3.9.6"
  }
 },
 "nbformat": 4,
 "nbformat_minor": 5
}
